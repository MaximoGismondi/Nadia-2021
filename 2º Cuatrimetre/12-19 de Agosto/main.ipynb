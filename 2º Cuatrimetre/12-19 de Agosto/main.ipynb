import pandas as pd
import numpy as np

csv = pd.read_csv("datos.csv")

def sacarEspacios(valor):
    if type(valor) == str:
        if valor[0] == " ":
            valor = valor[1:]
    
    if valor == 'nan' or valor == "":
        valor = np.nan

    return valor

def convertirAFloat(valor):
    valor = str(valor)
    for caracter in valor:
        if caracter.isalpha():
            valor = valor.replace(caracter, "")
    return float(valor)

def asignarSexo(valor):
    valor = valor.lower()
    if valor[0] == "h":
        return "h"
    elif valor[0] == "m":
        return "m"
    elif valor[0] == "n":
        return "nb"
    else:
        return np.nan

def arreglarLU(valor):
    valor = valor.replace(" ","/")
    return valor.replace("-","/")

def arreglarObservacion(valor):
    valor = valor.lower()
    if valor == 'hiper tension' or valor == 'hipertension' or valor == 'sobrepeso':
        valor = 'hipertension' 
    elif valor == 'dolor cabeza' or valor == 'dolor de cabeza':
        valor = 'dolor de cabeza' 
    else:
        valor = 'ninguna'
    return valor

csv = csv.applymap(sacarEspacios)
csv = csv.dropna()

csv[" Altura"] = csv[" Altura"].apply(sacarEspacios)
csv[" Peso"] = csv[" Peso"].apply(convertirAFloat)
csv[" Promedio"] = csv[" Promedio"].apply(convertirAFloat)
csv[" Sexo"] = csv[" Sexo"].apply(asignarSexo)
csv[" LU"] = csv[" LU"].apply(arreglarLU)
csv[" Observación "] = csv[" Observación "].apply(arreglarObservacion)
    
csv = csv.dropna()
csv.to_csv("datos_limpios.csv")