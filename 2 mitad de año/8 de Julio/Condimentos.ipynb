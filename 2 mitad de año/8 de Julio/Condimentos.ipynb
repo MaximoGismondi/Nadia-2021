{
  "nbformat": 4,
  "nbformat_minor": 0,
  "metadata": {
    "colab": {
      "name": "Condimentos.ipynb",
      "provenance": [],
      "collapsed_sections": []
    },
    "kernelspec": {
      "name": "python3",
      "display_name": "Python 3"
    },
    "language_info": {
      "name": "python"
    }
  },
  "cells": [
    {
      "cell_type": "markdown",
      "metadata": {
        "id": "81DFNrvNHHDQ"
      },
      "source": [
        "# **MEJORES CONDIMENTOS**\n",
        "\n",
        "######El siguiente trabajo tiene la intención de resolver el popular debate de que condimento predominar de entre los demás.\n",
        "######Para ello, se utilizará un google form https://forms.gle/AxnoBGt6nmA9QuNK6 el cual nos permitirá obtener, almacenar y exportar las respuestas de los votantes. Los mismos, serán contactados via grupos privados de WhatsApp mediante mensajes como \"cadenas\", muy famosas en WhatsApp.\n",
        "######En total se registraron +210 votantes que nos permitieron obtener los sigueintes datos:\n",
        "\n"
      ]
    },
    {
      "cell_type": "markdown",
      "metadata": {
        "id": "trtxjgoyJIER"
      },
      "source": [
        "#Primer Gráfico\n",
        "######Primero se mostraran en formato de barras, cual es el condimento mas frecuentemente pedido."
      ]
    },
    {
      "cell_type": "code",
      "metadata": {
        "colab": {
          "base_uri": "https://localhost:8080/",
          "height": 331
        },
        "id": "ZyhCHG7REw2F",
        "outputId": "d1087aa4-795b-409a-905f-5cb8f5db95a0"
      },
      "source": [
        "import pandas as pd\n",
        "import matplotlib.pyplot as plt1\n",
        "import matplotlib.pyplot as plt2\n",
        "\n",
        "csv = pd.read_csv(\"drive/MyDrive/Mejores Condimentos.csv\")\n",
        "y1 = csv[\"Indiscutible TOP 1\"].value_counts()\n",
        "\n",
        "x1 = y1.keys()\n",
        "\n",
        "plt1.bar(x1,y1)\n",
        "plt1.title('Mejor Condimento')\n",
        "plt1.ylabel('Votos a favor')\n",
        "plt1.xticks(rotation=90)\n",
        "plt1.show()"
      ],
      "execution_count": 6,
      "outputs": [
        {
          "output_type": "display_data",
          "data": {
            "image/png": "[encoded data removed]",
            "text/plain": [
              "<Figure size 432x288 with 1 Axes>"
            ]
          },
          "metadata": {
            "tags": [],
            "needs_background": "light"
          }
        }
      ]
    },
    {
      "cell_type": "markdown",
      "metadata": {
        "id": "Uz6jljIxKVNu"
      },
      "source": [
        "Observamos que el condimento más frecuente es el de la barra que se encuentra mas a la izquierda"
      ]
    },
    {
      "cell_type": "markdown",
      "metadata": {
        "id": "DoJFgmLgKVxp"
      },
      "source": [
        "#Segundo Gráfico\n",
        "######Luego, se graficará cuales son las 5 comidas mas pedidas como acompañaminto de el condiento mas elegido."
      ]
    },
    {
      "cell_type": "code",
      "metadata": {
        "colab": {
          "base_uri": "https://localhost:8080/",
          "height": 347
        },
        "id": "JTehuOXGJ_12",
        "outputId": "e91acfd6-4f52-4cb0-d903-204a871e6762"
      },
      "source": [
        "y2 = []\n",
        "\n",
        "for i in range(len(csv[\"Indiscutible TOP 1\"])):\n",
        "  if csv[\"Indiscutible TOP 1\"][i] == y1.keys()[0]:\n",
        "    y2.append(csv[\"¿ Qué comida elegís para acompañar tu elección ?\"][i])\n",
        "\n",
        "y2Map = {}\n",
        "\n",
        "#cuenta\n",
        "for i in y2:\n",
        "  i = i.lower().strip().capitalize()\n",
        "  if i in y2Map.keys():\n",
        "    y2Map[i] += 1\n",
        "  else:\n",
        "    y2Map[i] = 1\n",
        "\n",
        "#ordena\n",
        "y2MapList = sorted(y2Map.items(), key=lambda x: x[1], reverse=True)\n",
        "y2Map.clear()\n",
        "\n",
        "#transforma\n",
        "for i in y2MapList:\n",
        "  y2Map[i[0]] = i[1]\n",
        "\n",
        "#muestra\n",
        "x2 = list(y2Map.keys())[0:5]\n",
        "y2 = list(y2Map.values())[0:5]\n",
        "\n",
        "plt2.bar(x2,y2)\n",
        "plt2.title('Mejor acompañamiento')\n",
        "plt2.ylabel('Votos')\n",
        "plt2.xticks(rotation=90)\n",
        "plt2.show()"
      ],
      "execution_count": 5,
      "outputs": [
        {
          "output_type": "display_data",
          "data": {
            "image/png": "[encoded data removed]",
            "text/plain": [
              "<Figure size 432x288 with 1 Axes>"
            ]
          },
          "metadata": {
            "tags": [],
            "needs_background": "light"
          }
        }
      ]
    },
    {
      "cell_type": "markdown",
      "metadata": {
        "id": "hH4yAxNdK45C"
      },
      "source": [
        "Podemos ver en orden (de izqueirda a derecha) las comidas acompañantes más elegidas"
      ]
    },
    {
      "cell_type": "markdown",
      "metadata": {
        "id": "Y0hOPm1qLHFP"
      },
      "source": [
        "#Conclusión \n",
        "Este trabajo nos permite cerrar este debate y llegar a la conclusión de que la mayonesa es el condimento mas pedido por el pueblo y se suele acopañar mayormente con milanesas. Aún así, la cantitad de votates no es suficiente para llegar a un hecho de cual es mejor que el otro por lo menos en la zona los votantes (argentina), pero nos permite darnos una idea bastante de cuales condimentos son buenos y cuales malos"
      ]
    }
  ]
}