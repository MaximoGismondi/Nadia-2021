{
 "cells": [],
 "metadata": {
  "kernelspec": {
   "display_name": "Python 3",
   "language": "python",
   "name": "python3"
  },
  "language_info": {
   "codemirror_mode": {
    "name": "ipython",
    "version": 2
   },
   "file_extension": ".py",
   "mimetype": "text/x-python",
   "name": "python",
   "nbconvert_exporter": "python",
   "pygments_lexer": "ipython2",
   "version": "2.7.6"
  },
  "pycharm": {
   "stem_cell": {
    "cell_type": "raw",
    "source": [
     "import pandas as pd\n",
     "import matplotlib.pyplot as plt1\n",
     "import matplotlib.pyplot as plt2\n",
     "import matplotlib.pyplot as plt3\n",
     "import matplotlib.pyplot as plt4\n",
     "\n",
     "csv = pd.read_csv(\"dataset_testeo_turismo.csv\")\n",
     "x1 = csv[\"GRUPO_ETARIO\"].unique()\n",
     "y1 = csv[\"GRUPO_ETARIO\"].value_counts().tolist()\n",
     "y1.reverse()\n",
     "\n",
     "csv = csv.loc[0:300] #sino hay muchas ubicaciones y no se lee pero anda igual\n",
     "x2 = csv[\"UBICACION\"].unique()\n",
     "y2 = csv[\"UBICACION\"].value_counts().tolist()\n",
     "y2.reverse()\n",
     "\n",
     "#grafico 1\n",
     "plt1.plot(x1,y1)\n",
     "plt1.title('Testeados según grupo etario')\n",
     "plt1.xlabel('Grupos etarios')\n",
     "plt1.ylabel('Cantidad de testeados')\n",
     "plt1.show()\n",
     "\n",
     "plt3.bar(x1,y1)\n",
     "plt3.title('Testeados según grupo etario')\n",
     "plt3.xlabel('Grupos etarios')\n",
     "plt3.ylabel('Cantidad de testeados')\n",
     "plt3.show()\n",
     "\n",
     "#1. Llegamos a la conclusion de que la cantidad de testeos crece respecto a la\n",
     "# edad que tengan las personas\n",
     "#2. Seria conveniente saber cuantas veces se realizo el testeo a la misma persona\n",
     "# para saber con exactitud el porcentaje de gente testeada segun la edad\n",
     "\n",
     "\n",
     "#grafico 2\n",
     "plt2.rcParams.update({'font.size': 7})\n",
     "plt2.plot(x2,y2)\n",
     "plt2.title('Testeados según ubicación', fontsize = 10)\n",
     "plt2.xlabel('Ubicaiones', fontsize = 10)\n",
     "plt2.ylabel('Cantidad de testeados', fontsize = 10)\n",
     "plt2.show()\n",
     "\n",
     "plt4.rcParams.update({'font.size': 7})\n",
     "plt4.bar(x2,y2)\n",
     "plt4.title('Testeados según ubicación', fontsize = 10)\n",
     "plt4.xlabel('Ubicaiones', fontsize = 10)\n",
     "plt4.ylabel('Cantidad de testeados', fontsize = 10)\n",
     "plt4.show()\n",
     "\n",
     "#markdown\n",
     "\n"
    ],
    "metadata": {
     "collapsed": false
    }
   }
  }
 },
 "nbformat": 4,
 "nbformat_minor": 0
}